{
 "cells": [
  {
   "cell_type": "markdown",
   "metadata": {},
   "source": [
    "# Persistence Explorer Tutorial\n",
    "\n",
    "This Jupyter notebook will show you how to get up and running with the tda-d3-explorer tool. If you haven't installed the tool yet, please follow the instructions listed on the readme of the tda-d3-explorer repository."
   ]
  },
  {
   "cell_type": "code",
   "execution_count": null,
   "metadata": {
    "collapsed": true
   },
   "outputs": [],
   "source": [
    "from PersistenceExplorer import *"
   ]
  },
  {
   "cell_type": "markdown",
   "metadata": {},
   "source": [
    "# Computing persistence of images\n",
    "\n",
    "First we need to compute the persistence diagrams for a set of grayscale bitmap images. We have provided a set of 20 test images in the folder `../data/bmp`, as we see:"
   ]
  },
  {
   "cell_type": "code",
   "execution_count": null,
   "metadata": {
    "collapsed": false
   },
   "outputs": [],
   "source": [
    "[ filename for filename in os.listdir('../data/bmp') if filename.endswith('.bmp') ]"
   ]
  },
  {
   "cell_type": "markdown",
   "metadata": {},
   "source": [
    "Now that we know we have a set of images, we want to compute the corresponding persistence diagrams. The following command will compute both the sublevel and superlevel persistence of each image and save the results as `.csv` files. Each image processed will result in a `.csv` file with the same basename as the original input image, e.g. `00001.bmp` results in files  `pd_sub/00001.csv` and `pd_sup/00001.csv`. \n",
    "\n",
    "*NOTE: The following command will spawn eight processes, each utilizing approximately 100MB of memory.*"
   ]
  },
  {
   "cell_type": "code",
   "execution_count": null,
   "metadata": {
    "collapsed": false
   },
   "outputs": [],
   "source": [
    "ProcessImageFolderWithPHAT('../data/bmp/')"
   ]
  },
  {
   "cell_type": "markdown",
   "metadata": {},
   "source": [
    "We verify the sublevel results are indeed stored in a newly created subfolder `pd_sub`:"
   ]
  },
  {
   "cell_type": "code",
   "execution_count": null,
   "metadata": {
    "collapsed": false
   },
   "outputs": [],
   "source": [
    "[ filename for filename in os.listdir('../data/bmp/pd_sub') if filename.endswith('.csv') ]"
   ]
  },
  {
   "cell_type": "markdown",
   "metadata": {},
   "source": [
    "Similarly the superlevel persistence results are stored in the subdirectory `pd_sup`. We can visually inspect the results of such a file:"
   ]
  },
  {
   "cell_type": "code",
   "execution_count": null,
   "metadata": {
    "collapsed": false
   },
   "outputs": [],
   "source": [
    "with open('../data/bmp/pd_sub/00001.csv', 'r') as f:\n",
    "    csv_data = f.read()\n",
    "print(csv_data)"
   ]
  },
  {
   "cell_type": "markdown",
   "metadata": {},
   "source": [
    "### Finer control of persistence calculations\n",
    "\n",
    "If finer control is required over which filtration to use for the peristence computation and where to place the results, the user can directly call the following function (already available in the PersistenceExplorer package imported above):\n",
    "\n",
    "```python\n",
    "def ProcessImageListWithPHAT( list_of_image_filenames, list_of_output_filenames, filtration_type, cores=8 ):\n",
    "  \"\"\"\n",
    "  Iterate through images, compute persistence results, and store results.\n",
    "    list_of_image_filenames: a list of image files\n",
    "    list_of_output_filenames: a list of files to save corresponding persistence results in\n",
    "    filtration_type: either \"sub\" or \"super\" to indicate to obtain persistence results for either\n",
    "                     sublevel or superlevel set filtrations\n",
    "    cores: the number of cores to use for the parallel computation of persistence diagrams.\n",
    "  \"\"\"\n",
    "  def chunks(l, n):\n",
    "    \"\"\"Yield successive n-sized chunks from l.\"\"\"\n",
    "    for i in range(0, len(l), n):\n",
    "        yield l[i:i + n]\n",
    "  cohorts_of_image_filenames = chunks(list_of_image_filenames, cores)\n",
    "  cohorts_of_output_filenames = chunks(list_of_output_filenames, cores)\n",
    "  # Run commands in parallel\n",
    "  for images,outputs in zip(cohorts_of_image_filenames, cohorts_of_output_filenames):\n",
    "    processes = [subprocess.Popen([\"ImagePersistence\", infile, outfile, filtration_type]) for infile, outfile in zip(images, outputs) ]\n",
    "    # Block until processing complete\n",
    "    exitcodes = [p.wait() for p in processes]\n",
    "```"
   ]
  },
  {
   "cell_type": "markdown",
   "metadata": {},
   "source": [
    "# PersistenceExplorer\n",
    "\n",
    "Reading the results of the persistence calculation as a long table of numbers is not in itself very illuminating. Instead, we can use a tool which allows us to visualize and interact with the results of the persistence calculation as a _persistence diagram_. To use the tool to explore our data, we first:\n",
    "\n",
    "* load a sequence of images and their associated persistence results\n",
    "* choose a range of frames of interest\n",
    "* provide the actual size of the image that the persistence diagram was generated from\n",
    "* choose a maximum size height/width for the displayed image (in pixels)\n",
    "* choose a maximum size for the persistence diagram (in pixels)\n",
    "\n",
    "The following commands will initialize the variables needed to provide the parameters for the tool. See the note provided at the end of this tutorial to understand the conventions used to populate the paths to the image and persistence diagram files."
   ]
  },
  {
   "cell_type": "code",
   "execution_count": null,
   "metadata": {
    "collapsed": false
   },
   "outputs": [],
   "source": [
    "imagefiles = [ '/files/data/bmp/' + filename for filename in os.listdir('../data/bmp') if filename.endswith('.bmp') ]\n",
    "pdfiles = [ '/files/data/bmp/pd_sub/' + filename for filename in os.listdir('../data/bmp/pd_sub') if filename.endswith('.csv') ]\n",
    "frames = range(0, len(imagefiles))\n",
    "imagesize = [421, 421]\n",
    "max_image_display_size = 400\n",
    "persistence_diagram_display_size = 400"
   ]
  },
  {
   "cell_type": "markdown",
   "metadata": {},
   "source": [
    "After these general environment parameters have been set up, we can now call the persistence explorer to interact with our data. We still need to choose a dimension of interest (i.e. $H_0$ features or $H_1$ persistence features), and then provide this choice and the above parameters to the tool.\n",
    "\n",
    "The tool currently comes provided with the following features:\n",
    "\n",
    "* Selecting a region in the persistence diagram with a lasso tool will display annotated features overlaid on the image, and run an animation which shows how they evolve with time (if you have provided more than one frame). The annotated features come from the critical cell pairings of discrete Morse theory. Open circles indicate birth critical cells (e.g. local minima for sublevel set dimension 0 persistence), and closed circles indicate death critical cells (e.g. saddle points for sublevel set dimension 0 persistence). Line segments are drawn between the critical cells to show the pairings that correspond to the encircled persistence points.\n",
    "\n",
    "* Selecting a rectangle in the image will highlight the associated persistence points in the persistence diagram. Any persistence point that has at least one critical cell from its underlying pairing (either birth or death) will be highlighted on the persistence diagram.\n",
    "\n",
    "Let's try it out! After running the following cell, you'll see the first sample image on the left and a time series of persistence diagrams overlaid as a set on the right. Gray persistence points correspond to the first frame in the dataset, and blue persistence points correspond to the last frame in the dataset. Go ahead and run the following cell now and then try out the suggested features following the output. "
   ]
  },
  {
   "cell_type": "code",
   "execution_count": null,
   "metadata": {
    "collapsed": false
   },
   "outputs": [],
   "source": [
    "dimension_of_interest = 0\n",
    "PersistenceExplorer(imagefiles, pdfiles, frames, dimension_of_interest, \n",
    "                    imagesize, max_image_display_size, persistence_diagram_display_size)"
   ]
  },
  {
   "cell_type": "markdown",
   "metadata": {},
   "source": [
    "**Visualizing persistence generators**\n",
    "\n",
    "To explore the above sample data, try encircling some persistence points on the persistence diagram by drawing a circle around them. When you release the mouse/trackpad, the circle will complete itself (it is not important to draw the entire circle yourself) and then an animation will play. The frame number indicator will advance through the frames in the sample dataset and the critical cell pairings underlying each encircled persistence point will be overlaid on top of the corresponding image. It is best to wait until the animation has finished before circling additional points on the persistence plane.\n",
    "\n",
    "**Reverse search feature** \n",
    "\n",
    "Next, try out the reverse-search feature by clicking and dragging a box around a feature in the image itself. Upon releasing the mouse/trackpad, any persistence points that have a critical cell in that box will be highlighted in the persistence diagram, with yellow corresponding to the first frame in the dataset and red corresponding to the last frame. Now try encircling a collection of highlighted persistence points and see how they correspond to the region you selected.\n",
    "\n",
    "Try this again using the dimension 1 sublevel set persistence diagrams."
   ]
  },
  {
   "cell_type": "code",
   "execution_count": null,
   "metadata": {
    "collapsed": false
   },
   "outputs": [],
   "source": [
    "dimension_of_interest = 1\n",
    "PersistenceExplorer(imagefiles, pdfiles, frames, dimension_of_interest,\n",
    "                    imagesize, max_image_display_size, persistence_diagram_display_size)"
   ]
  },
  {
   "cell_type": "markdown",
   "metadata": {
    "collapsed": true
   },
   "source": [
    "## File path gotcha:\n",
    "\n",
    "Note that above, the file paths used for `ProcessImageFolderWithPHAT` and for `PersistenceExplorer` are not the same.\n",
    "\n",
    "`ProcessImageFolderWithPHAT` executes server side code which treats `/` as the root of the filesystem as recognized as the OS. \n",
    "\n",
    "`PersistenceExplorer`, on the other hand, is javascript which executes client-side. The client can only see the part of the filesystem which Jupyter serves over HTTP. The following example assumes `jupyter notebook` has been launched from the `tda-d3-explorer` directory. Jupyter Notebook treats this as the root directory, (which it names `/files` as opposed to just `/`). Thus we prefix all our paths with `/files` and can only access files underneath the file-system from wherever Jupyter Notebook was launched. For example `/path/to/tda-d3-explorer/data/bmp/00001.bmp` becomes `/files/data/bmp/00001.bmp` since Jupyter Notebook was launched in `/path/to/tda-d3-explorer`.\n",
    "\n",
    "It is not clear yet the best way to resolve this confusion."
   ]
  }
 ],
 "metadata": {
  "anaconda-cloud": {},
  "kernelspec": {
   "display_name": "Python [default]",
   "language": "python",
   "name": "python2"
  },
  "language_info": {
   "codemirror_mode": {
    "name": "ipython",
    "version": 2
   },
   "file_extension": ".py",
   "mimetype": "text/x-python",
   "name": "python",
   "nbconvert_exporter": "python",
   "pygments_lexer": "ipython2",
   "version": "2.7.12"
  }
 },
 "nbformat": 4,
 "nbformat_minor": 1
}

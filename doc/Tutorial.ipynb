{
 "cells": [
  {
   "cell_type": "code",
   "execution_count": 1,
   "metadata": {
    "collapsed": true
   },
   "outputs": [],
   "source": [
    "from PersistenceExplorer import *"
   ]
  },
  {
   "cell_type": "markdown",
   "metadata": {},
   "source": [
    "# Computing persistence of images\n",
    "\n",
    "We demonstrate the computation of persistence for a set of images. In the folder `../data/bmp` we have 20 images, as we see:"
   ]
  },
  {
   "cell_type": "code",
   "execution_count": null,
   "metadata": {
    "collapsed": false
   },
   "outputs": [],
   "source": [
    "[ filename for filename in os.listdir('../data/bmp') if filename.endswith('.bmp') ]"
   ]
  },
  {
   "cell_type": "markdown",
   "metadata": {},
   "source": [
    "We can compute the sublevel and superlevel persistence of these images. The following command will compute the sublevel and superlevel persistence of each image and save the results as `.csv` files. Each image processed will result in a `.csv` file with the same basename, e.g. `00001.bmp` results in files  `pd_sub/00001.csv` and `pd_sup/00001.csv`."
   ]
  },
  {
   "cell_type": "code",
   "execution_count": null,
   "metadata": {
    "collapsed": false
   },
   "outputs": [],
   "source": [
    "ProcessImageFolderWithPHAT('../data/bmp/')"
   ]
  },
  {
   "cell_type": "markdown",
   "metadata": {},
   "source": [
    "We verify the sublevel results are indeed stored in a newly created subfolder `pd_sub`:"
   ]
  },
  {
   "cell_type": "code",
   "execution_count": null,
   "metadata": {
    "collapsed": false
   },
   "outputs": [],
   "source": [
    "[ filename for filename in os.listdir('../data/bmp/pd_sub') if filename.endswith('.csv') ]"
   ]
  },
  {
   "cell_type": "markdown",
   "metadata": {},
   "source": [
    "Similarly the superlevel persistence results are stored in the subdirectory `pd_sup`. We can visually inspect the results of such a file:"
   ]
  },
  {
   "cell_type": "code",
   "execution_count": null,
   "metadata": {
    "collapsed": false
   },
   "outputs": [],
   "source": [
    "with open('../data/bmp/pd_sub/00001.csv', 'r') as f:\n",
    "    csv_data = f.read()\n",
    "print(csv_data)"
   ]
  },
  {
   "cell_type": "markdown",
   "metadata": {},
   "source": [
    "### Finer control of persistence calculations\n",
    "\n",
    "If finer control is required over which images to compute on and where to place the results, the user can directly call the following function (already available in the PersistenceExplorer package imported above):\n",
    "\n",
    "```python\n",
    "def ProcessImageListWithPHAT( list_of_image_filenames, list_of_output_filenames, filtration_type ):\n",
    "  \"\"\"\n",
    "  Iterate through images, compute persistence results, and store results.\n",
    "    list_of_image_filenames: a list of image files\n",
    "    list_of_output_filenames: a list of files to save corresponding persistence results in\n",
    "    filtration_type: either \"sub\" or \"super\" to indicate to obtain persistence results for either\n",
    "                     sublevel or superlevel set filtrations\n",
    "  \"\"\"\n",
    "  # Run commands in parallel\n",
    "  processes = [subprocess.Popen([\"ImagePersistence\", infile, outfile, filtration_type]) for infile, outfile in zip(list_of_image_filenames, list_of_output_filenames) ]\n",
    "  # Block until processing complete\n",
    "  exitcodes = [p.wait() for p in processes]\n",
    "```"
   ]
  },
  {
   "cell_type": "markdown",
   "metadata": {},
   "source": [
    "# PersistenceExplorer\n",
    "\n",
    "Reading the results of the persistence calculation as a long table of numbers is not in itself very illuminating. Instead, we can use a tool which allows us to visualize the results of the persistence calculation as a _persistence diagram_, and moreover, we can associate the persistence diagram points with features in the original image. The tool below provides the following abilities:\n",
    "\n",
    "* We can load a sequence of images and their associated persistence results\n",
    "* We can choose a range of frames of interest\n",
    "* We choose a dimension of interested (i.e. $H_0$ features or $H_1$ persistence features).\n",
    "* We provide the actual size of the image that the persistence diagram was generated from.\n",
    "* We can choose a maximum size height/width for the displayed image (in pixels).\n",
    "* We can choose a maximum size for the persistence diagram (in pixels).\n",
    "* Selecting a rectangle in the image will highlight associated persistence generators in the persistence diagram\n",
    "* Selecting a region in the persistence diagram with a lasso tool will display annotated features overlaid on the image and run an animation which shows how they evolve with time\n"
   ]
  },
  {
   "cell_type": "code",
   "execution_count": 17,
   "metadata": {
    "collapsed": false
   },
   "outputs": [],
   "source": [
    "imagefiles = [ '/files/data/bmp/' + filename for filename in os.listdir('../data/bmp') if filename.endswith('.bmp') ]\n",
    "pdfiles = [ '/files/data/bmp/pd_sub/' + filename for filename in os.listdir('../data/bmp/pd_sub') if filename.endswith('.csv') ]\n",
    "frames = range(0, len(imagefiles))\n",
    "imagesize = [421, 421]\n",
    "max_image_display_size = 400\n",
    "persistence_diagram_display_size = 400"
   ]
  },
  {
   "cell_type": "code",
   "execution_count": null,
   "metadata": {
    "collapsed": false
   },
   "outputs": [],
   "source": [
    "dimension_of_interest = 0\n",
    "PersistenceExplorer(imagefiles, pdfiles, frames, dimension_of_interest, \n",
    "                    imagesize, max_image_display_size, persistence_diagram_display_size)"
   ]
  },
  {
   "cell_type": "code",
   "execution_count": null,
   "metadata": {
    "collapsed": false
   },
   "outputs": [],
   "source": [
    "dimension_of_interest = 1\n",
    "PersistenceExplorer(imagefiles, pdfiles, frames, dimension_of_interest,\n",
    "                    imagesize, max_image_display_size, persistence_diagram_display_size)"
   ]
  },
  {
   "cell_type": "markdown",
   "metadata": {
    "collapsed": true
   },
   "source": [
    "## File path gotcha:\n",
    "\n",
    "Note that above, the file paths used for `ProcessImageFolderWithPHAT` and for `PersistenceExplorer` are not the same.\n",
    "\n",
    "`ProcessImageFolderWithPHAT` executes server side code which treats `/` as the root of the filesystem as recognized as the OS. \n",
    "\n",
    "`PersistenceExplorer`, on the other hand, is javascript which executes client-side. The client can only see the part of the filesystem which Jupyter serves over HTTP. The following example assumes `jupyter notebook` has been launched from the `tda-d3-explorer` directory. Jupyter Notebook treats this as the root directory, (which it names `/files` as opposed to just `/`). Thus we prefix all our paths with `/files` and can only access files underneath the file-system from wherever Jupyter Notebook was launched. For example `/path/to/tda-d3-explorer/data/bmp/00001.bmp` becomes `/files/data/bmp/00001.bmp` since Jupyter Notebook was launched in `/path/to/tda-d3-explorer`.\n",
    "\n",
    "It is not clear yet the best way to resolve this confusion."
   ]
  }
 ],
 "metadata": {
  "anaconda-cloud": {},
  "kernelspec": {
   "display_name": "Python [default]",
   "language": "python",
   "name": "python2"
  },
  "language_info": {
   "codemirror_mode": {
    "name": "ipython",
    "version": 2
   },
   "file_extension": ".py",
   "mimetype": "text/x-python",
   "name": "python",
   "nbconvert_exporter": "python",
   "pygments_lexer": "ipython2",
   "version": "2.7.12"
  }
 },
 "nbformat": 4,
 "nbformat_minor": 1
}

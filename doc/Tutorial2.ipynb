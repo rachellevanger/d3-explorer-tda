{
 "cells": [
  {
   "cell_type": "code",
   "execution_count": 1,
   "metadata": {
    "collapsed": true
   },
   "outputs": [],
   "source": [
    "from JupyterD3 import *"
   ]
  },
  {
   "cell_type": "code",
   "execution_count": 2,
   "metadata": {
    "collapsed": false
   },
   "outputs": [],
   "source": [
    "ProcessImageFolderWithPHAT('../data/bmp/')"
   ]
  },
  {
   "cell_type": "code",
   "execution_count": 6,
   "metadata": {
    "collapsed": false
   },
   "outputs": [],
   "source": [
    "imagefiles = [ '/files/data/bmp/%05d.bmp' % i for i in range(1,21) ]\n",
    "pdfiles = [ '/files/data/bmp/pd_sub/%05d_sub_all.csv' % i for i in range(1,21) ]\n",
    "frames = range(0, 20)"
   ]
  },
  {
   "cell_type": "code",
   "execution_count": 7,
   "metadata": {
    "collapsed": false
   },
   "outputs": [
    {
     "data": {
      "text/html": [
       "<style>body {\n",
       "  font: 10px sans-serif;\n",
       "}\n",
       "\n",
       ".axis path,\n",
       ".axis line {\n",
       "  fill: none;\n",
       "  stroke: #000;\n",
       "  shape-rendering: crispEdges;\n",
       "}\n",
       "\n",
       "circle.selected {\n",
       "  stroke-width: 1px;\n",
       "  stroke: #555;\n",
       "}\n",
       "\n",
       "path {\n",
       "      fill: none;\n",
       "      /*fill-opacity: .065;*/\n",
       "      stroke-width: 1px;\n",
       "      stroke: #666;\n",
       "    }\n",
       "\n",
       "\n",
       ".PersistenceExplorerPanel {\n",
       "  display: inline-block;\n",
       "  vertical-align: top;\n",
       "}\n",
       "\n",
       ".divListGens {\n",
       "  display: inline-block;\n",
       "  vertical-align: top;\n",
       "  margin-left: 1em;\n",
       "}\n",
       "\n",
       "\n",
       ".img {\n",
       "    position: absolute;\n",
       "    z-index: -1;\n",
       "}\n",
       "\n",
       ".brush .extent {\n",
       "  stroke: #fff;\n",
       "  fill-opacity: .25;\n",
       "  shape-rendering: crispEdges;\n",
       "}\n",
       "\n",
       "\n",
       ".slide {\n",
       "  font-size: 1.5em;\n",
       "}\n",
       "</style>\n",
       "    <script>\n",
       "    var command = function() { \n",
       "    PersistenceExplorer([\"/files/data/bmp/00001.bmp\", \"/files/data/bmp/00002.bmp\", \"/files/data/bmp/00003.bmp\", \"/files/data/bmp/00004.bmp\", \"/files/data/bmp/00005.bmp\", \"/files/data/bmp/00006.bmp\", \"/files/data/bmp/00007.bmp\", \"/files/data/bmp/00008.bmp\", \"/files/data/bmp/00009.bmp\", \"/files/data/bmp/00010.bmp\", \"/files/data/bmp/00011.bmp\", \"/files/data/bmp/00012.bmp\", \"/files/data/bmp/00013.bmp\", \"/files/data/bmp/00014.bmp\", \"/files/data/bmp/00015.bmp\", \"/files/data/bmp/00016.bmp\", \"/files/data/bmp/00017.bmp\", \"/files/data/bmp/00018.bmp\", \"/files/data/bmp/00019.bmp\", \"/files/data/bmp/00020.bmp\"], [\"/files/data/bmp/pd_sub/00001_sub_all.csv\", \"/files/data/bmp/pd_sub/00002_sub_all.csv\", \"/files/data/bmp/pd_sub/00003_sub_all.csv\", \"/files/data/bmp/pd_sub/00004_sub_all.csv\", \"/files/data/bmp/pd_sub/00005_sub_all.csv\", \"/files/data/bmp/pd_sub/00006_sub_all.csv\", \"/files/data/bmp/pd_sub/00007_sub_all.csv\", \"/files/data/bmp/pd_sub/00008_sub_all.csv\", \"/files/data/bmp/pd_sub/00009_sub_all.csv\", \"/files/data/bmp/pd_sub/00010_sub_all.csv\", \"/files/data/bmp/pd_sub/00011_sub_all.csv\", \"/files/data/bmp/pd_sub/00012_sub_all.csv\", \"/files/data/bmp/pd_sub/00013_sub_all.csv\", \"/files/data/bmp/pd_sub/00014_sub_all.csv\", \"/files/data/bmp/pd_sub/00015_sub_all.csv\", \"/files/data/bmp/pd_sub/00016_sub_all.csv\", \"/files/data/bmp/pd_sub/00017_sub_all.csv\", \"/files/data/bmp/pd_sub/00018_sub_all.csv\", \"/files/data/bmp/pd_sub/00019_sub_all.csv\", \"/files/data/bmp/pd_sub/00020_sub_all.csv\"], [0, 1, 2, 3, 4, 5, 6, 7, 8, 9, 10, 11, 12, 13, 14, 15, 16, 17, 18, 19], 0, {\"divImg\": \"#EPJIJNRJVTUZRRIVdivImg\", \"divPD\": \"#EPJIJNRJVTUZRRIVdivPD\", \"divSlide\": \"#EPJIJNRJVTUZRRIVdivSlide\"}); };\n",
       "    function LoadSource(src, tailcall) {\n",
       "      var elements = document.querySelectorAll(\"script[src='\"+src+\"']\");\n",
       "      if ( elements.length == 0 ) {\n",
       "        var element = document.createElement(\"script\");\n",
       "        element.src = src;\n",
       "        document.body.appendChild(element);\n",
       "        element.onload = tailcall;\n",
       "      } else {\n",
       "        tailcall ();\n",
       "      }\n",
       "    };\n",
       "    LoadSource(\"//d3js.org/d3.v3.min.js\", function() {\n",
       "      LoadSource( \"./PersistenceExplorer.js\", function() {  \n",
       "          command();\n",
       "      })\n",
       "    });\n",
       "    </script>\n",
       "    \n",
       "<div id=\"EPJIJNRJVTUZRRIVdivImg\" class=\"PersistenceExplorerPanel\"></div>\n",
       "<div id=\"EPJIJNRJVTUZRRIVdivPD\" class=\"PersistenceExplorerPanel\"></div>\n",
       "<br />\n",
       "<p></p>\n",
       "<div id=\"EPJIJNRJVTUZRRIVdivSlide\" class=\"PersistenceExplorerPanel\" ></div>\n",
       "<p></p>\n"
      ],
      "text/plain": [
       "<IPython.core.display.HTML object>"
      ]
     },
     "execution_count": 7,
     "metadata": {},
     "output_type": "execute_result"
    }
   ],
   "source": [
    "PersistenceExplorer(imagefiles, pdfiles, frames, 0)"
   ]
  },
  {
   "cell_type": "code",
   "execution_count": 8,
   "metadata": {
    "collapsed": false
   },
   "outputs": [
    {
     "data": {
      "text/html": [
       "<style>body {\n",
       "  font: 10px sans-serif;\n",
       "}\n",
       "\n",
       ".axis path,\n",
       ".axis line {\n",
       "  fill: none;\n",
       "  stroke: #000;\n",
       "  shape-rendering: crispEdges;\n",
       "}\n",
       "\n",
       "circle.selected {\n",
       "  stroke-width: 1px;\n",
       "  stroke: #555;\n",
       "}\n",
       "\n",
       "path {\n",
       "      fill: none;\n",
       "      /*fill-opacity: .065;*/\n",
       "      stroke-width: 1px;\n",
       "      stroke: #666;\n",
       "    }\n",
       "\n",
       "\n",
       ".PersistenceExplorerPanel {\n",
       "  display: inline-block;\n",
       "  vertical-align: top;\n",
       "}\n",
       "\n",
       ".divListGens {\n",
       "  display: inline-block;\n",
       "  vertical-align: top;\n",
       "  margin-left: 1em;\n",
       "}\n",
       "\n",
       "\n",
       ".img {\n",
       "    position: absolute;\n",
       "    z-index: -1;\n",
       "}\n",
       "\n",
       ".brush .extent {\n",
       "  stroke: #fff;\n",
       "  fill-opacity: .25;\n",
       "  shape-rendering: crispEdges;\n",
       "}\n",
       "\n",
       "\n",
       ".slide {\n",
       "  font-size: 1.5em;\n",
       "}\n",
       "</style>\n",
       "    <script>\n",
       "    var command = function() { \n",
       "    PersistenceExplorer([\"/files/data/bmp/00001.bmp\", \"/files/data/bmp/00002.bmp\", \"/files/data/bmp/00003.bmp\", \"/files/data/bmp/00004.bmp\", \"/files/data/bmp/00005.bmp\", \"/files/data/bmp/00006.bmp\", \"/files/data/bmp/00007.bmp\", \"/files/data/bmp/00008.bmp\", \"/files/data/bmp/00009.bmp\", \"/files/data/bmp/00010.bmp\", \"/files/data/bmp/00011.bmp\", \"/files/data/bmp/00012.bmp\", \"/files/data/bmp/00013.bmp\", \"/files/data/bmp/00014.bmp\", \"/files/data/bmp/00015.bmp\", \"/files/data/bmp/00016.bmp\", \"/files/data/bmp/00017.bmp\", \"/files/data/bmp/00018.bmp\", \"/files/data/bmp/00019.bmp\", \"/files/data/bmp/00020.bmp\"], [\"/files/data/bmp/pd_sub/00001_sub_all.csv\", \"/files/data/bmp/pd_sub/00002_sub_all.csv\", \"/files/data/bmp/pd_sub/00003_sub_all.csv\", \"/files/data/bmp/pd_sub/00004_sub_all.csv\", \"/files/data/bmp/pd_sub/00005_sub_all.csv\", \"/files/data/bmp/pd_sub/00006_sub_all.csv\", \"/files/data/bmp/pd_sub/00007_sub_all.csv\", \"/files/data/bmp/pd_sub/00008_sub_all.csv\", \"/files/data/bmp/pd_sub/00009_sub_all.csv\", \"/files/data/bmp/pd_sub/00010_sub_all.csv\", \"/files/data/bmp/pd_sub/00011_sub_all.csv\", \"/files/data/bmp/pd_sub/00012_sub_all.csv\", \"/files/data/bmp/pd_sub/00013_sub_all.csv\", \"/files/data/bmp/pd_sub/00014_sub_all.csv\", \"/files/data/bmp/pd_sub/00015_sub_all.csv\", \"/files/data/bmp/pd_sub/00016_sub_all.csv\", \"/files/data/bmp/pd_sub/00017_sub_all.csv\", \"/files/data/bmp/pd_sub/00018_sub_all.csv\", \"/files/data/bmp/pd_sub/00019_sub_all.csv\", \"/files/data/bmp/pd_sub/00020_sub_all.csv\"], [0, 1, 2, 3, 4, 5, 6, 7, 8, 9, 10, 11, 12, 13, 14, 15, 16, 17, 18, 19], 1, {\"divImg\": \"#EHGCORLBLDIDSQYYdivImg\", \"divPD\": \"#EHGCORLBLDIDSQYYdivPD\", \"divSlide\": \"#EHGCORLBLDIDSQYYdivSlide\"}); };\n",
       "    function LoadSource(src, tailcall) {\n",
       "      var elements = document.querySelectorAll(\"script[src='\"+src+\"']\");\n",
       "      if ( elements.length == 0 ) {\n",
       "        var element = document.createElement(\"script\");\n",
       "        element.src = src;\n",
       "        document.body.appendChild(element);\n",
       "        element.onload = tailcall;\n",
       "      } else {\n",
       "        tailcall ();\n",
       "      }\n",
       "    };\n",
       "    LoadSource(\"//d3js.org/d3.v3.min.js\", function() {\n",
       "      LoadSource( \"./PersistenceExplorer.js\", function() {  \n",
       "          command();\n",
       "      })\n",
       "    });\n",
       "    </script>\n",
       "    \n",
       "<div id=\"EHGCORLBLDIDSQYYdivImg\" class=\"PersistenceExplorerPanel\"></div>\n",
       "<div id=\"EHGCORLBLDIDSQYYdivPD\" class=\"PersistenceExplorerPanel\"></div>\n",
       "<br />\n",
       "<p></p>\n",
       "<div id=\"EHGCORLBLDIDSQYYdivSlide\" class=\"PersistenceExplorerPanel\" ></div>\n",
       "<p></p>\n"
      ],
      "text/plain": [
       "<IPython.core.display.HTML object>"
      ]
     },
     "execution_count": 8,
     "metadata": {},
     "output_type": "execute_result"
    }
   ],
   "source": [
    "PersistenceExplorer(imagefiles, pdfiles, frames, 1)"
   ]
  },
  {
   "cell_type": "code",
   "execution_count": null,
   "metadata": {
    "collapsed": true
   },
   "outputs": [],
   "source": []
  }
 ],
 "metadata": {
  "anaconda-cloud": {},
  "kernelspec": {
   "display_name": "Python [default]",
   "language": "python",
   "name": "python2"
  },
  "language_info": {
   "codemirror_mode": {
    "name": "ipython",
    "version": 2
   },
   "file_extension": ".py",
   "mimetype": "text/x-python",
   "name": "python",
   "nbconvert_exporter": "python",
   "pygments_lexer": "ipython2",
   "version": "2.7.12"
  }
 },
 "nbformat": 4,
 "nbformat_minor": 1
}
